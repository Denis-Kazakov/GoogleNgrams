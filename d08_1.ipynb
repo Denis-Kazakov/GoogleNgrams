{
 "cells": [
  {
   "cell_type": "code",
   "execution_count": 1,
   "id": "81f37394",
   "metadata": {
    "executionInfo": {
     "elapsed": 273,
     "status": "ok",
     "timestamp": 1662750057542,
     "user": {
      "displayName": "Sergey Krosheninnikov",
      "userId": "09705482408539521388"
     },
     "user_tz": -180
    },
    "id": "81f37394"
   },
   "outputs": [],
   "source": [
    "import requests\n",
    "import json\n",
    "from scipy import stats\n",
    "# import pandas as pd"
   ]
  },
  {
   "cell_type": "markdown",
   "id": "e4326a00",
   "metadata": {
    "id": "e4326a00"
   },
   "source": [
    "### This code accesses Google Ngrams to compare the frequencies of two N-grams and determines whether the difference is statistically significant."
   ]
  },
  {
   "cell_type": "markdown",
   "id": "1d919009",
   "metadata": {
    "id": "1d919009"
   },
   "source": [
    "Only some corpora are supported in this version. All are 2019 versions."
   ]
  },
  {
   "cell_type": "code",
   "execution_count": 2,
   "id": "RD175rlqdG7J",
   "metadata": {
    "executionInfo": {
     "elapsed": 283,
     "status": "ok",
     "timestamp": 1662750183102,
     "user": {
      "displayName": "Sergey Krosheninnikov",
      "userId": "09705482408539521388"
     },
     "user_tz": -180
    },
    "id": "RD175rlqdG7J"
   },
   "outputs": [],
   "source": [
    "class GBN: # Google_Book_Ngram:\n",
    "    '''работа с Google Books Ngram'''\n",
    "\n",
    "    def __init__(self,\n",
    "               ngram1, \n",
    "               ngram2, \n",
    "               lang=\"Russian\", \n",
    "               y_beg=1919, \n",
    "               y_end=2019, \n",
    "               caseins=False, \n",
    "               alpha=0.95):    # Инициализация класса\n",
    "\n",
    "        self.ngram1 = ngram1\n",
    "        self.ngram2 = ngram2\n",
    "\n",
    "        corpora = {'English': 26,\n",
    "                 'French': 30,\n",
    "                 'German': 31,\n",
    "                 'Italian': 33,\n",
    "                 'Russian': 36,\n",
    "                 'Spanish': 32} # выбор корпуса\n",
    "        corpus = corpora[lang]\n",
    "\n",
    "        params_1 = {\n",
    "            'content'   : ngram1,\n",
    "            'year_start': y_beg,\n",
    "            'year_end'  : y_end,\n",
    "            'corpus'    : corpus,\n",
    "            'smoothing' : 0\n",
    "        } # Параметры запроса для 1-й фразы\n",
    "\n",
    "        params_2 = {\n",
    "            'content'   : ngram2,\n",
    "            'year_start': y_beg,\n",
    "            'year_end'  : y_end,\n",
    "            'corpus'    : corpus,\n",
    "            'smoothing' : 0\n",
    "        } # Параметры запроса для 2-й фразы\n",
    "\n",
    "#        self.caseins = caseins        # регистрозависимость\n",
    "        self.alpha   = alpha          # уровень статистической значимости\n",
    "\n",
    "  # получение выборок\n",
    "        url    = 'https://books.google.com/ngrams/json?' # путь запроса к API Google\n",
    "        self.result_1 = requests.get(url, params_1).json()[0]['timeseries']\n",
    "        self.result_2 = requests.get(url, params_2).json()[0]['timeseries']\n",
    "  \n",
    "  # расчет сравнения\n",
    "        self.cmpr = stats.ttest_rel(self.result_1, self.result_2)\n",
    "\n",
    "  # печать результата\n",
    "    def print(self):\n",
    "        if self.cmpr.statistic >= 0:\n",
    "            more_common = self.ngram1\n",
    "            less_common = self.ngram2\n",
    "        else:\n",
    "            more_common = ngram2\n",
    "            less_common = ngram1 \n",
    "\n",
    "        if self.cmpr.pvalue < 1 - self.alpha:\n",
    "            significance = 'и разница статистически значима'\n",
    "        else:\n",
    "            significance = 'но разница статистически незначима'   \n",
    "      \n",
    "        outcome = 'Фраза \"{0}\" встречается чаще, чем фраза \"{1}\", {2} (p-value = {3})'.format(more_common, \n",
    "                                                                                less_common, \n",
    "                                                                                significance, \n",
    "                                                                                self.cmpr.pvalue)\n",
    "        return outcome"
   ]
  },
  {
   "cell_type": "code",
   "execution_count": 7,
   "id": "81de06fd",
   "metadata": {
    "executionInfo": {
     "elapsed": 262,
     "status": "ok",
     "timestamp": 1662750192736,
     "user": {
      "displayName": "Sergey Krosheninnikov",
      "userId": "09705482408539521388"
     },
     "user_tz": -180
    },
    "id": "81de06fd"
   },
   "outputs": [],
   "source": [
    "title1 = \"как бы то ни было\"\n",
    "title2 = \"как бы там ни было\""
   ]
  },
  {
   "cell_type": "code",
   "execution_count": 8,
   "id": "498a4d24",
   "metadata": {},
   "outputs": [],
   "source": [
    "comparator = GBN(title1, title2)"
   ]
  },
  {
   "cell_type": "code",
   "execution_count": 9,
   "id": "25b221f6",
   "metadata": {
    "id": "25b221f6"
   },
   "outputs": [],
   "source": [
    "result = comparator.print()"
   ]
  },
  {
   "cell_type": "code",
   "execution_count": 10,
   "id": "5a85231c",
   "metadata": {
    "id": "5a85231c"
   },
   "outputs": [
    {
     "data": {
      "text/plain": [
       "'Фраза \"как бы то ни было\" встречается чаще, чем фраза \"как бы там ни было\", и разница статистически значима (p-value = 3.0859256453695464e-26)'"
      ]
     },
     "execution_count": 10,
     "metadata": {},
     "output_type": "execute_result"
    }
   ],
   "source": [
    "result"
   ]
  }
 ],
 "metadata": {
  "colab": {
   "collapsed_sections": [],
   "provenance": [],
   "toc_visible": true
  },
  "kernelspec": {
   "display_name": "Python 3 (ipykernel)",
   "language": "python",
   "name": "python3"
  },
  "language_info": {
   "codemirror_mode": {
    "name": "ipython",
    "version": 3
   },
   "file_extension": ".py",
   "mimetype": "text/x-python",
   "name": "python",
   "nbconvert_exporter": "python",
   "pygments_lexer": "ipython3",
   "version": "3.8.5"
  }
 },
 "nbformat": 4,
 "nbformat_minor": 5
}
