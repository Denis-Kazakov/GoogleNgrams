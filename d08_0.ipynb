{
 "cells": [
  {
   "cell_type": "code",
   "execution_count": 150,
   "id": "81f37394",
   "metadata": {},
   "outputs": [],
   "source": [
    "import requests\n",
    "import json\n",
    "from scipy import stats\n",
    "import pandas as pd"
   ]
  },
  {
   "cell_type": "markdown",
   "id": "e4326a00",
   "metadata": {},
   "source": [
    "### This code accesses Google Ngrams to compare the frequencies of two N-grams and determines whether the difference is statistically significant."
   ]
  },
  {
   "cell_type": "markdown",
   "id": "1d919009",
   "metadata": {},
   "source": [
    "Only some corpora are supported in this version. All are 2019 versions."
   ]
  },
  {
   "cell_type": "markdown",
   "id": "47c87871",
   "metadata": {},
   "source": [
    "Language selection:"
   ]
  },
  {
   "cell_type": "code",
   "execution_count": 235,
   "id": "328fe843",
   "metadata": {},
   "outputs": [],
   "source": [
    "corpora = {'English': 26, \n",
    "           'French': 30, \n",
    "           'German': 31,\n",
    "           'Italian': 33,\n",
    "           'Russian': 36,\n",
    "           'Spanish': 32\n",
    "          }"
   ]
  },
  {
   "cell_type": "code",
   "execution_count": 236,
   "id": "3be6003b",
   "metadata": {},
   "outputs": [
    {
     "name": "stdout",
     "output_type": "stream",
     "text": [
      "Available languages: English, French, German, Italian, Russian, Spanish.\n",
      "Enter language: Russian\n"
     ]
    }
   ],
   "source": [
    "not_selected = True\n",
    "while not_selected:\n",
    "    print('Available languages: English, French, German, Italian, Russian, Spanish.')\n",
    "    lang = input('Enter language: ')\n",
    "    if lang in corpora:\n",
    "        not_selected = False\n",
    "    else:\n",
    "        print('This language is not supported. Try again')\n",
    "        "
   ]
  },
  {
   "cell_type": "markdown",
   "id": "86a3c0f7",
   "metadata": {},
   "source": [
    "Time interval selection"
   ]
  },
  {
   "cell_type": "code",
   "execution_count": 258,
   "id": "497d879b",
   "metadata": {},
   "outputs": [
    {
     "name": "stdout",
     "output_type": "stream",
     "text": [
      "Enter the start year (1500-2018): 1900\n"
     ]
    }
   ],
   "source": [
    "not_selected = True\n",
    "while not_selected:\n",
    "    year_start = int(input('Enter the start year (1500-2018): '))\n",
    "    if year_start < 1500 or year_start > 2018:\n",
    "        print('Year out of the available interval. Try again')\n",
    "    else:\n",
    "        not_selected = False\n",
    "        "
   ]
  },
  {
   "cell_type": "code",
   "execution_count": 238,
   "id": "41557a9b",
   "metadata": {
    "scrolled": true
   },
   "outputs": [
    {
     "name": "stdout",
     "output_type": "stream",
     "text": [
      "Enter the end year (1501-2019): 2019\n"
     ]
    }
   ],
   "source": [
    "not_selected = True\n",
    "while not_selected:\n",
    "    year_end = int(input('Enter the end year (1501-2019): '))\n",
    "    if year_end < 1501 or year_end > 2019:\n",
    "        print('Year out of the available interval. Try again')\n",
    "    elif year_start >= year_end:\n",
    "        print('Start later than end. Try again')\n",
    "    else:\n",
    "        not_selected = False\n",
    "        "
   ]
  },
  {
   "cell_type": "markdown",
   "id": "96e6ccac",
   "metadata": {},
   "source": [
    "First N-gram"
   ]
  },
  {
   "cell_type": "code",
   "execution_count": 239,
   "id": "f3de9f96",
   "metadata": {},
   "outputs": [
    {
     "name": "stdout",
     "output_type": "stream",
     "text": [
      "Entern the first N-gram. No more than 5 words. No punctuation, characters only! как бы то ни было\n"
     ]
    }
   ],
   "source": [
    "not_selected = True\n",
    "while not_selected:\n",
    "    ngram_1 = input('Entern the first N-gram. No more than 5 words. No punctuation, characters only! ')\n",
    "    if  len(ngram_1.split()) > 5:\n",
    "        print('N-gram too long. Try again')\n",
    "    else:\n",
    "        not_selected = False\n",
    "        "
   ]
  },
  {
   "cell_type": "markdown",
   "id": "823da251",
   "metadata": {},
   "source": [
    "Case sensitive?"
   ]
  },
  {
   "cell_type": "code",
   "execution_count": 240,
   "id": "ba1c78a3",
   "metadata": {
    "scrolled": true
   },
   "outputs": [
    {
     "name": "stdout",
     "output_type": "stream",
     "text": [
      "Do you want your search for the first N-gram to be case INSENSITIVE. Enter Y for yes or N for no: Y\n"
     ]
    }
   ],
   "source": [
    "not_selected = True\n",
    "while not_selected:\n",
    "    case_insensitive_1 = input('Do you want your search for the first N-gram to be case INSENSITIVE. Enter Y for yes or N for no: ')\n",
    "    if  case_insensitive_1 != 'Y' and case_insensitive_1 != 'N':\n",
    "        print('Wrong answer. Try again')\n",
    "    else:\n",
    "        not_selected = False\n",
    "        "
   ]
  },
  {
   "cell_type": "markdown",
   "id": "80f4e35d",
   "metadata": {},
   "source": [
    "Second N-gram"
   ]
  },
  {
   "cell_type": "code",
   "execution_count": 241,
   "id": "5adf4ca7",
   "metadata": {},
   "outputs": [
    {
     "name": "stdout",
     "output_type": "stream",
     "text": [
      "Entern the second N-gram. No more than 5 words. No punctuation, characters only! как бы там ни было\n"
     ]
    }
   ],
   "source": [
    "not_selected = True\n",
    "while not_selected:\n",
    "    ngram_2 = input('Entern the second N-gram. No more than 5 words. No punctuation, characters only! ')\n",
    "    if  len(ngram_2.split()) > 5:\n",
    "        print('N-gram too long. Try again')\n",
    "    else:\n",
    "        not_selected = False\n",
    "        "
   ]
  },
  {
   "cell_type": "markdown",
   "id": "db1f181f",
   "metadata": {},
   "source": [
    "Case sensitive?"
   ]
  },
  {
   "cell_type": "code",
   "execution_count": 242,
   "id": "88ae503c",
   "metadata": {
    "scrolled": true
   },
   "outputs": [
    {
     "name": "stdout",
     "output_type": "stream",
     "text": [
      "Do you want your search for the second N-gram to be case INSENSITIVE. Enter Y for yes or N for no: Y\n"
     ]
    }
   ],
   "source": [
    "not_selected = True\n",
    "while not_selected:\n",
    "    case_insensitive_2 = input('Do you want your search for the second N-gram to be case INSENSITIVE. Enter Y for yes or N for no: ')\n",
    "    if  case_insensitive_2 != 'Y' and case_insensitive_2 != 'N':\n",
    "        print('Wrong answer. Try again')\n",
    "    else:\n",
    "        not_selected = False\n",
    "        "
   ]
  },
  {
   "cell_type": "markdown",
   "id": "0ea073a5",
   "metadata": {},
   "source": [
    "Significance level"
   ]
  },
  {
   "cell_type": "code",
   "execution_count": 243,
   "id": "c7469802",
   "metadata": {
    "scrolled": true
   },
   "outputs": [
    {
     "name": "stdout",
     "output_type": "stream",
     "text": [
      "Enter significance level (0 < alpha < 1). If not sure, enter 0 for the defalut value of 0.05: 0\n"
     ]
    }
   ],
   "source": [
    "not_selected = True\n",
    "while not_selected:\n",
    "    alpha = float(input('Enter significance level (0 < alpha < 1). If not sure, enter 0 for the defalut value of 0.05: '))\n",
    "    if alpha < 0 or alpha >= 1:\n",
    "        print('Error. Enter a number between 0 and 1')\n",
    "    elif alpha == 0:\n",
    "        alpha = 0.05\n",
    "        not_selected = False\n",
    "    else:\n",
    "        not_selected = False\n",
    "        "
   ]
  },
  {
   "cell_type": "code",
   "execution_count": 259,
   "id": "81de06fd",
   "metadata": {},
   "outputs": [],
   "source": [
    "params_1 = {\n",
    "    'content': ngram_1,\n",
    "    'year_start': year_start,\n",
    "    'year_end': year_end,\n",
    "    'corpus': corpora[lang],\n",
    "    'smoothing': 0\n",
    "}"
   ]
  },
  {
   "cell_type": "code",
   "execution_count": 260,
   "id": "85072680",
   "metadata": {},
   "outputs": [],
   "source": [
    "if case_insensitive_1 == 'Y':\n",
    "    params_1['case_insensitive'] = 'true'"
   ]
  },
  {
   "cell_type": "code",
   "execution_count": 261,
   "id": "e62da793",
   "metadata": {},
   "outputs": [],
   "source": [
    "params_2 = {\n",
    "    'content': ngram_2,\n",
    "    'year_start': year_start,\n",
    "    'year_end': year_end,\n",
    "    'corpus': corpora[lang],\n",
    "    'smoothing': 0\n",
    "}"
   ]
  },
  {
   "cell_type": "code",
   "execution_count": 262,
   "id": "49d96f82",
   "metadata": {},
   "outputs": [],
   "source": [
    "if case_insensitive_2 == 'Y':\n",
    "    params_2['case_insensitive'] = 'true'"
   ]
  },
  {
   "cell_type": "code",
   "execution_count": 263,
   "id": "786581c0",
   "metadata": {},
   "outputs": [],
   "source": [
    "result_1 = requests.get('https://books.google.com/ngrams/json?', params=params_1).json()[0]['timeseries']"
   ]
  },
  {
   "cell_type": "code",
   "execution_count": 264,
   "id": "5cdb599e",
   "metadata": {},
   "outputs": [],
   "source": [
    "result_2 = requests.get('https://books.google.com/ngrams/json?', params=params_2).json()[0]['timeseries']"
   ]
  },
  {
   "cell_type": "code",
   "execution_count": 265,
   "id": "4567f42d",
   "metadata": {
    "scrolled": true
   },
   "outputs": [],
   "source": [
    "compare = stats.ttest_rel(result_1, result_2)"
   ]
  },
  {
   "cell_type": "markdown",
   "id": "1c02583a",
   "metadata": {},
   "source": [
    "Convert years into strings so that there are no fractional years on the plot."
   ]
  },
  {
   "cell_type": "code",
   "execution_count": 266,
   "id": "e2d3fa54",
   "metadata": {},
   "outputs": [],
   "source": [
    "year_range = [str(year) for year in range(year_start, year_end + 1)]"
   ]
  },
  {
   "cell_type": "code",
   "execution_count": 267,
   "id": "0e38329a",
   "metadata": {},
   "outputs": [
    {
     "data": {
      "text/html": [
       "<div>\n",
       "<style scoped>\n",
       "    .dataframe tbody tr th:only-of-type {\n",
       "        vertical-align: middle;\n",
       "    }\n",
       "\n",
       "    .dataframe tbody tr th {\n",
       "        vertical-align: top;\n",
       "    }\n",
       "\n",
       "    .dataframe thead th {\n",
       "        text-align: right;\n",
       "    }\n",
       "</style>\n",
       "<table border=\"1\" class=\"dataframe\">\n",
       "  <thead>\n",
       "    <tr style=\"text-align: right;\">\n",
       "      <th></th>\n",
       "      <th>как бы то ни было</th>\n",
       "      <th>как бы там ни было</th>\n",
       "    </tr>\n",
       "  </thead>\n",
       "  <tbody>\n",
       "    <tr>\n",
       "      <th>1900</th>\n",
       "      <td>7.370542e-07</td>\n",
       "      <td>7.624698e-08</td>\n",
       "    </tr>\n",
       "    <tr>\n",
       "      <th>1901</th>\n",
       "      <td>3.771644e-07</td>\n",
       "      <td>0.000000e+00</td>\n",
       "    </tr>\n",
       "    <tr>\n",
       "      <th>1902</th>\n",
       "      <td>7.281546e-07</td>\n",
       "      <td>4.854364e-08</td>\n",
       "    </tr>\n",
       "    <tr>\n",
       "      <th>1903</th>\n",
       "      <td>5.279377e-07</td>\n",
       "      <td>1.147691e-07</td>\n",
       "    </tr>\n",
       "    <tr>\n",
       "      <th>1904</th>\n",
       "      <td>6.867585e-07</td>\n",
       "      <td>2.081086e-08</td>\n",
       "    </tr>\n",
       "    <tr>\n",
       "      <th>...</th>\n",
       "      <td>...</td>\n",
       "      <td>...</td>\n",
       "    </tr>\n",
       "    <tr>\n",
       "      <th>2015</th>\n",
       "      <td>6.749654e-06</td>\n",
       "      <td>2.304369e-06</td>\n",
       "    </tr>\n",
       "    <tr>\n",
       "      <th>2016</th>\n",
       "      <td>7.123640e-06</td>\n",
       "      <td>2.601869e-06</td>\n",
       "    </tr>\n",
       "    <tr>\n",
       "      <th>2017</th>\n",
       "      <td>6.311109e-06</td>\n",
       "      <td>2.935301e-06</td>\n",
       "    </tr>\n",
       "    <tr>\n",
       "      <th>2018</th>\n",
       "      <td>6.041098e-06</td>\n",
       "      <td>3.217568e-06</td>\n",
       "    </tr>\n",
       "    <tr>\n",
       "      <th>2019</th>\n",
       "      <td>6.006799e-06</td>\n",
       "      <td>3.183086e-06</td>\n",
       "    </tr>\n",
       "  </tbody>\n",
       "</table>\n",
       "<p>120 rows × 2 columns</p>\n",
       "</div>"
      ],
      "text/plain": [
       "      как бы то ни было  как бы там ни было\n",
       "1900       7.370542e-07        7.624698e-08\n",
       "1901       3.771644e-07        0.000000e+00\n",
       "1902       7.281546e-07        4.854364e-08\n",
       "1903       5.279377e-07        1.147691e-07\n",
       "1904       6.867585e-07        2.081086e-08\n",
       "...                 ...                 ...\n",
       "2015       6.749654e-06        2.304369e-06\n",
       "2016       7.123640e-06        2.601869e-06\n",
       "2017       6.311109e-06        2.935301e-06\n",
       "2018       6.041098e-06        3.217568e-06\n",
       "2019       6.006799e-06        3.183086e-06\n",
       "\n",
       "[120 rows x 2 columns]"
      ]
     },
     "execution_count": 267,
     "metadata": {},
     "output_type": "execute_result"
    }
   ],
   "source": [
    "result = pd.DataFrame({ngram_1: result_1, ngram_2: result_2},\n",
    "                     index = year_range)\n",
    "result"
   ]
  },
  {
   "cell_type": "code",
   "execution_count": 268,
   "id": "e9ee42ae",
   "metadata": {},
   "outputs": [],
   "source": [
    "if compare.statistic >= 0:\n",
    "    more_common = ngram_1\n",
    "    less_common = ngram_2\n",
    "else:\n",
    "    more_common = ngram_2\n",
    "    less_common = ngram_1    "
   ]
  },
  {
   "cell_type": "code",
   "execution_count": 269,
   "id": "e997adef",
   "metadata": {},
   "outputs": [],
   "source": [
    "if compare.pvalue < alpha:\n",
    "    significance = 'and the difference is statistically significant'\n",
    "else:\n",
    "    significance = 'but the difference is not statistically significant'\n"
   ]
  },
  {
   "cell_type": "code",
   "execution_count": 270,
   "id": "0bd19e50",
   "metadata": {},
   "outputs": [],
   "source": [
    "outcome = 'N-gram \"{0}\" is more common than n-gram \"{1}\", {2} (p-value = {3})'.format(more_common, \n",
    "                                                                                less_common, \n",
    "                                                                                significance, \n",
    "                                                                                compare.pvalue)"
   ]
  },
  {
   "cell_type": "code",
   "execution_count": 271,
   "id": "986cef99",
   "metadata": {},
   "outputs": [
    {
     "name": "stdout",
     "output_type": "stream",
     "text": [
      "N-gram \"как бы то ни было\" is more common than n-gram \"как бы там ни было\", and the difference is statistically significant (p-value = 1.2495379708855416e-32)\n"
     ]
    }
   ],
   "source": [
    "print(outcome)"
   ]
  },
  {
   "cell_type": "code",
   "execution_count": 272,
   "id": "6c934dad",
   "metadata": {
    "scrolled": true
   },
   "outputs": [
    {
     "data": {
      "text/plain": [
       "<AxesSubplot:xlabel='year', ylabel='frequency'>"
      ]
     },
     "execution_count": 272,
     "metadata": {},
     "output_type": "execute_result"
    },
    {
     "data": {
      "image/png": "[encoded data removed]",
      "text/plain": [
       "<Figure size 576x360 with 1 Axes>"
      ]
     },
     "metadata": {
      "needs_background": "light"
     },
     "output_type": "display_data"
    }
   ],
   "source": [
    "result.plot.line(\n",
    "                grid=True,\n",
    "                xlabel='year',\n",
    "                ylabel='frequency',\n",
    "                 figsize = (8, 5)\n",
    "                )"
   ]
  },
  {
   "cell_type": "code",
   "execution_count": null,
   "id": "25b221f6",
   "metadata": {},
   "outputs": [],
   "source": []
  },
  {
   "cell_type": "code",
   "execution_count": null,
   "id": "5a85231c",
   "metadata": {},
   "outputs": [],
   "source": []
  }
 ],
 "metadata": {
  "kernelspec": {
   "display_name": "Python 3 (ipykernel)",
   "language": "python",
   "name": "python3"
  },
  "language_info": {
   "codemirror_mode": {
    "name": "ipython",
    "version": 3
   },
   "file_extension": ".py",
   "mimetype": "text/x-python",
   "name": "python",
   "nbconvert_exporter": "python",
   "pygments_lexer": "ipython3",
   "version": "3.8.5"
  }
 },
 "nbformat": 4,
 "nbformat_minor": 5
}
